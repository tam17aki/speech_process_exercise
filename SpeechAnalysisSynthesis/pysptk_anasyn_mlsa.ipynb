{
 "cells": [
  {
   "cell_type": "markdown",
   "metadata": {},
   "source": [
    "# PySPTKによる音声の分析再合成 (MLSAフィルタ)"
   ]
  },
  {
   "cell_type": "code",
   "execution_count": 11,
   "metadata": {},
   "outputs": [],
   "source": [
    "from pysptk.synthesis import MLSADF, Synthesizer\n",
    "from scipy.io import wavfile\n",
    "import librosa\n",
    "import numpy as np\n",
    "import pysptk\n",
    "import matplotlib.pyplot as plt\n",
    "from IPython.display import Audio"
   ]
  },
  {
   "cell_type": "code",
   "execution_count": 2,
   "metadata": {},
   "outputs": [],
   "source": [
    "# 音声の分析条件\n",
    "FRAME_LENGTH = 1024 # フレーム長 (point)\n",
    "HOP_LENGTH = 80 # フレームシフト (point)\n",
    "MIN_F0 = 60 # 基本周波数の最小値 (Hz)\n",
    "MAX_F0 = 240 # 基本周波数の最大値 (Hz)\n",
    "ORDER = 25 # メルケプストラムの分析次数\n",
    "ALPHA = 0.41 # 周波数ワーピングのパラメタ"
   ]
  },
  {
   "cell_type": "code",
   "execution_count": 3,
   "metadata": {},
   "outputs": [],
   "source": [
    "IN_WAVE_FILE = \"in.wav\"       # 入力音声\n",
    "OUT_WAVE_FILE = \"out.wav\"     # 分析再合成した音声"
   ]
  },
  {
   "cell_type": "code",
   "execution_count": 4,
   "metadata": {},
   "outputs": [],
   "source": [
    "# 音声の読み込み\n",
    "fs, x = wavfile.read(IN_WAVE_FILE)\n",
    "x = x.astype(np.float64)"
   ]
  },
  {
   "cell_type": "code",
   "execution_count": 5,
   "metadata": {},
   "outputs": [],
   "source": [
    "# 音声の切り出しと窓掛け\n",
    "frames = librosa.util.frame(x, frame_length=FRAME_LENGTH,\n",
    "                            hop_length=HOP_LENGTH).astype(np.float64).T\n",
    "frames *= pysptk.blackman(FRAME_LENGTH)  # 窓掛け（ブラックマン窓）"
   ]
  },
  {
   "cell_type": "code",
   "execution_count": 6,
   "metadata": {},
   "outputs": [],
   "source": [
    "# ピッチ抽出\n",
    "pitch = pysptk.swipe(x, fs=fs, hopsize=HOP_LENGTH,\n",
    "                     min=MIN_F0, max=MAX_F0, otype=\"pitch\")"
   ]
  },
  {
   "cell_type": "code",
   "execution_count": 7,
   "metadata": {},
   "outputs": [],
   "source": [
    "# 励振源信号(声帯音源)の生成\n",
    "source_excitation = pysptk.excite(pitch, HOP_LENGTH)"
   ]
  },
  {
   "cell_type": "code",
   "execution_count": 8,
   "metadata": {},
   "outputs": [],
   "source": [
    "# メルケプストラム分析（＝スペクトル包絡の抽出）\n",
    "mc = pysptk.mcep(frames, ORDER, ALPHA)  # メルケプストラム係数の抽出"
   ]
  },
  {
   "cell_type": "code",
   "execution_count": 9,
   "metadata": {},
   "outputs": [],
   "source": [
    "# メルケプストラム係数からMLSAディジタルフィルタ係数に変換\n",
    "mlsa_coef = pysptk.mc2b(mc, ALPHA)"
   ]
  },
  {
   "cell_type": "code",
   "execution_count": 12,
   "metadata": {},
   "outputs": [],
   "source": [
    "# MLSAフィルタの作成\n",
    "synthesizer = Synthesizer(MLSADF(order=ORDER, alpha=ALPHA), HOP_LENGTH)"
   ]
  },
  {
   "cell_type": "code",
   "execution_count": 13,
   "metadata": {},
   "outputs": [],
   "source": [
    "# 励振源信号でフィルタを駆動して音声を合成\n",
    "y = synthesizer.synthesis(source_excitation, mlsa_coef)"
   ]
  },
  {
   "cell_type": "code",
   "execution_count": 14,
   "metadata": {},
   "outputs": [],
   "source": [
    "# 音声の書き込み\n",
    "y = y.astype(np.int16)\n",
    "wavfile.write(OUT_WAVE_FILE, fs, y)"
   ]
  },
  {
   "cell_type": "code",
   "execution_count": null,
   "metadata": {},
   "outputs": [],
   "source": [
    "# オリジナルの音声をプロット\n",
    "n_samples = len(x)\n",
    "time = np.arange(n_samples) / fs # 時間軸の設定\n",
    "\n",
    "# プロット枠を確保 (10がヨコのサイズ、4はタテのサイズ)\n",
    "plt.figure(figsize=(10, 4))\n",
    "\n",
    "# x軸のラベル\n",
    "plt.xlabel(\"Time (sec)\")\n",
    "\n",
    "# y軸のラベル\n",
    "plt.ylabel(\"Amplitude\")\n",
    "\n",
    "# 画像のタイトル\n",
    "plt.title(\"Waveform\")\n",
    "\n",
    "# 余白を最小化\n",
    "plt.tight_layout()\n",
    "\n",
    "# 波形のプロット\n",
    "plt.plot(time, x)"
   ]
  }
 ],
 "metadata": {
  "kernelspec": {
   "display_name": "Python 3",
   "language": "python",
   "name": "python3"
  },
  "language_info": {
   "codemirror_mode": {
    "name": "ipython",
    "version": 3
   },
   "file_extension": ".py",
   "mimetype": "text/x-python",
   "name": "python",
   "nbconvert_exporter": "python",
   "pygments_lexer": "ipython3",
   "version": "3.8.5"
  }
 },
 "nbformat": 4,
 "nbformat_minor": 4
}
