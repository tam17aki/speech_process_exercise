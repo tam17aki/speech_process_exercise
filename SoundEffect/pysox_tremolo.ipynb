{
 "cells": [
  {
   "cell_type": "code",
   "execution_count": 1,
   "metadata": {},
   "outputs": [],
   "source": [
    "import sox\n",
    "from scipy.io import wavfile\n",
    "from IPython.display import Audio"
   ]
  },
  {
   "cell_type": "code",
   "execution_count": 2,
   "metadata": {},
   "outputs": [],
   "source": [
    "IN_WAVE_FILE = \"in.wav\"       # 入力音声\n",
    "OUT_WAVE_FILE = \"tremolo.wav\"  # トレモロ済み音声"
   ]
  },
  {
   "cell_type": "code",
   "execution_count": 3,
   "metadata": {},
   "outputs": [],
   "source": [
    "# create trasnformer (単一ファイルに対する処理)\n",
    "transformer = sox.Transformer()"
   ]
  },
  {
   "cell_type": "code",
   "execution_count": 4,
   "metadata": {},
   "outputs": [],
   "source": [
    "# トレモロ の パラメタ\n",
    "# トレモロの速度 (Hz) → 振幅の上下動の頻度\n",
    "SPEED = 8\n",
    "\n",
    "# トレモロの深さ (%) → 振幅の上下動の深さ（当該振幅を基準にした比）\n",
    "DEPTH = 100"
   ]
  },
  {
   "cell_type": "code",
   "execution_count": 5,
   "metadata": {},
   "outputs": [
    {
     "name": "stderr",
     "output_type": "stream",
     "text": [
      "output_file: tremolo.wav already exists and will be overwritten on build\n"
     ]
    },
    {
     "data": {
      "text/plain": [
       "True"
      ]
     },
     "execution_count": 5,
     "metadata": {},
     "output_type": "execute_result"
    }
   ],
   "source": [
    "# トレモロをかける\n",
    "transformer.tremolo(speed=SPEED, depth=DEPTH)\n",
    "transformer.build(IN_WAVE_FILE, OUT_WAVE_FILE)  # 入出力のファイル名を直接指定"
   ]
  },
  {
   "cell_type": "code",
   "execution_count": 6,
   "metadata": {},
   "outputs": [],
   "source": [
    "# 音声ファイルを開く\n",
    "sr, data = wavfile.read(IN_WAVE_FILE)"
   ]
  },
  {
   "cell_type": "code",
   "execution_count": 8,
   "metadata": {},
   "outputs": [],
   "source": [
    "# トレモロをかける\n",
    "tremolos = transformer.build_array(input_array=data, sample_rate_in=sr)"
   ]
  },
  {
   "cell_type": "code",
   "execution_count": null,
   "metadata": {},
   "outputs": [],
   "source": []
  }
 ],
 "metadata": {
  "kernelspec": {
   "display_name": "Python 3",
   "language": "python",
   "name": "python3"
  },
  "language_info": {
   "codemirror_mode": {
    "name": "ipython",
    "version": 3
   },
   "file_extension": ".py",
   "mimetype": "text/x-python",
   "name": "python",
   "nbconvert_exporter": "python",
   "pygments_lexer": "ipython3",
   "version": "3.8.5"
  }
 },
 "nbformat": 4,
 "nbformat_minor": 4
}
